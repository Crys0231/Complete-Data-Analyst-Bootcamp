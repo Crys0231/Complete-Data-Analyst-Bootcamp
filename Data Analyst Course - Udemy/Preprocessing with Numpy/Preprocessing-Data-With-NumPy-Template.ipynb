{
 "cells": [
  {
   "cell_type": "markdown",
   "metadata": {},
   "source": [
    "# Preprocessing with NumPy"
   ]
  },
  {
   "cell_type": "code",
   "execution_count": 2,
   "metadata": {},
   "outputs": [],
   "source": [
    "import numpy as np"
   ]
  },
  {
   "cell_type": "markdown",
   "metadata": {},
   "source": [
    "## Checking for Missing Values"
   ]
  },
  {
   "cell_type": "code",
   "execution_count": 3,
   "metadata": {},
   "outputs": [],
   "source": [
    "lendin_co = np.loadtxt(\"Lending-company-Numeric.csv\", delimiter=',')"
   ]
  },
  {
   "cell_type": "code",
   "execution_count": 4,
   "metadata": {},
   "outputs": [],
   "source": [
    "lendin_co_nan = np.genfromtxt(\"Lending-company-Numeric-NAN.csv\", delimiter=';')"
   ]
  },
  {
   "cell_type": "code",
   "execution_count": 5,
   "metadata": {},
   "outputs": [
    {
     "data": {
      "text/plain": [
       "np.int64(260)"
      ]
     },
     "execution_count": 5,
     "metadata": {},
     "output_type": "execute_result"
    }
   ],
   "source": [
    "np.isnan(lendin_co_nan).sum()"
   ]
  },
  {
   "cell_type": "code",
   "execution_count": 6,
   "metadata": {},
   "outputs": [
    {
     "data": {
      "text/plain": [
       "np.int64(0)"
      ]
     },
     "execution_count": 6,
     "metadata": {},
     "output_type": "execute_result"
    }
   ],
   "source": [
    "lendin_co_nan_wdata = np.genfromtxt(\"Lending-company-Numeric-NAN.csv\", delimiter=';',filling_values=0)\n",
    "np.isnan(lendin_co_nan_wdata).sum()"
   ]
  },
  {
   "cell_type": "code",
   "execution_count": 8,
   "metadata": {},
   "outputs": [
    {
     "data": {
      "text/plain": [
       "np.float64(64002.0)"
      ]
     },
     "execution_count": 8,
     "metadata": {},
     "output_type": "execute_result"
    }
   ],
   "source": [
    "temporary_fill = np.nanmax(lendin_co_nan_wdata).round(2)+1\n",
    "temporary_fill"
   ]
  },
  {
   "cell_type": "code",
   "execution_count": 14,
   "metadata": {},
   "outputs": [
    {
     "data": {
      "text/plain": [
       "np.int64(0)"
      ]
     },
     "execution_count": 14,
     "metadata": {},
     "output_type": "execute_result"
    }
   ],
   "source": [
    "lendin_co_nan_wdata = np.genfromtxt(\"Lending-company-Numeric-NAN.csv\", delimiter=';',filling_values=temporary_fill)\n",
    "np.isnan(lendin_co_nan_wdata).sum()"
   ]
  },
  {
   "cell_type": "markdown",
   "metadata": {},
   "source": [
    "## Substituting Missing Values"
   ]
  },
  {
   "cell_type": "code",
   "execution_count": 15,
   "metadata": {},
   "outputs": [
    {
     "data": {
      "text/plain": [
       "np.float64(2250.25)"
      ]
     },
     "execution_count": 15,
     "metadata": {},
     "output_type": "execute_result"
    }
   ],
   "source": [
    "temporary_mean = np.nanmean(lendin_co_nan, axis=0).round(2)\n",
    "temporary_mean[0]"
   ]
  },
  {
   "cell_type": "code",
   "execution_count": 16,
   "metadata": {},
   "outputs": [
    {
     "data": {
      "text/plain": [
       "np.float64(64002.0)"
      ]
     },
     "execution_count": 16,
     "metadata": {},
     "output_type": "execute_result"
    }
   ],
   "source": [
    "temporary_fill"
   ]
  },
  {
   "cell_type": "code",
   "execution_count": 17,
   "metadata": {},
   "outputs": [
    {
     "data": {
      "text/plain": [
       "np.float64(4263.25)"
      ]
     },
     "execution_count": 17,
     "metadata": {},
     "output_type": "execute_result"
    }
   ],
   "source": [
    "np.mean(lendin_co_nan_wdata[:,0]).round(2)"
   ]
  },
  {
   "cell_type": "code",
   "execution_count": 19,
   "metadata": {},
   "outputs": [
    {
     "data": {
      "text/plain": [
       "np.float64(2250.25)"
      ]
     },
     "execution_count": 19,
     "metadata": {},
     "output_type": "execute_result"
    }
   ],
   "source": [
    "temporary_mean[0]"
   ]
  },
  {
   "cell_type": "code",
   "execution_count": 18,
   "metadata": {},
   "outputs": [
    {
     "data": {
      "text/plain": [
       "np.float64(2250.25)"
      ]
     },
     "execution_count": 18,
     "metadata": {},
     "output_type": "execute_result"
    }
   ],
   "source": [
    "lendin_co_nan_wdata[:,0]= np.where(lendin_co_nan_wdata[:,0]== temporary_fill, \\\n",
    "                                   temporary_mean[0], lendin_co_nan_wdata[:,0])\n",
    "np.mean(lendin_co_nan_wdata[:,0]).round(2)"
   ]
  },
  {
   "cell_type": "code",
   "execution_count": 20,
   "metadata": {},
   "outputs": [],
   "source": [
    "for i in range(lendin_co_nan_wdata.shape[1]):\n",
    "    lendin_co_nan_wdata[:,i]= np.where(lendin_co_nan_wdata[:,i]== temporary_fill, \\\n",
    "                                       temporary_mean[i], lendin_co_nan_wdata[:,i])\n"
   ]
  },
  {
   "cell_type": "markdown",
   "metadata": {},
   "source": [
    "## Reshaping"
   ]
  },
  {
   "cell_type": "code",
   "execution_count": 20,
   "metadata": {},
   "outputs": [
    {
     "data": {
      "text/plain": [
       "(1043, 6)"
      ]
     },
     "execution_count": 20,
     "metadata": {},
     "output_type": "execute_result"
    }
   ],
   "source": [
    "lendin_co.shape\n"
   ]
  },
  {
   "cell_type": "code",
   "execution_count": 24,
   "metadata": {},
   "outputs": [
    {
     "data": {
      "text/plain": [
       "array([[[ 2000.,    40.,   365., ...,   365.,  1581.,  3041.],\n",
       "        [12277.,  2000.,    40., ...,    50.,   365.,  5350.],\n",
       "        [ 6850., 15150.,  1000., ...,  2000.,    40.,   365.],\n",
       "        [ 3101.,  4351., 16600., ..., 16600.,  2000.,    40.],\n",
       "        [  365.,  3441.,  4661., ...,  8450., 22250.,  2000.],\n",
       "        [   40.,   365.,  3701., ...,  4601.,  4601., 16600.]]])"
      ]
     },
     "execution_count": 24,
     "metadata": {},
     "output_type": "execute_result"
    }
   ],
   "source": [
    "lendin_reshaped = np.reshape(lendin_co, (1,6, 1043))\n",
    "lendin_reshaped"
   ]
  },
  {
   "cell_type": "code",
   "execution_count": 29,
   "metadata": {},
   "outputs": [
    {
     "data": {
      "text/plain": [
       "array([[   40.,  3121., 13621.],\n",
       "       [   40.,  3061., 15041.],\n",
       "       [   40.,  2160., 15340.],\n",
       "       ...,\n",
       "       [   40.,  4201., 16600.],\n",
       "       [   40.,  2080., 15600.],\n",
       "       [   40.,  4601., 16600.]])"
      ]
     },
     "execution_count": 29,
     "metadata": {},
     "output_type": "execute_result"
    }
   ],
   "source": [
    "np.delete(lendin_co,(0,2,4),axis=1)\n"
   ]
  },
  {
   "cell_type": "code",
   "execution_count": 27,
   "metadata": {
    "scrolled": true
   },
   "outputs": [
    {
     "data": {
      "text/plain": [
       "6258"
      ]
     },
     "execution_count": 27,
     "metadata": {},
     "output_type": "execute_result"
    }
   ],
   "source": [
    "lendin_co.size"
   ]
  },
  {
   "cell_type": "markdown",
   "metadata": {},
   "source": [
    "## Removing Values"
   ]
  },
  {
   "cell_type": "code",
   "execution_count": null,
   "metadata": {},
   "outputs": [],
   "source": []
  },
  {
   "cell_type": "markdown",
   "metadata": {},
   "source": [
    "## Sorting Data"
   ]
  },
  {
   "cell_type": "code",
   "execution_count": 41,
   "metadata": {},
   "outputs": [
    {
     "data": {
      "text/plain": [
       "(1043, 6)"
      ]
     },
     "execution_count": 41,
     "metadata": {},
     "output_type": "execute_result"
    }
   ],
   "source": [
    "np.sort(lendin_co).shape"
   ]
  },
  {
   "cell_type": "code",
   "execution_count": 37,
   "metadata": {},
   "outputs": [
    {
     "data": {
      "text/plain": [
       "array([-2870., -2870., -2550., ..., 54625., 54625., 64001.])"
      ]
     },
     "execution_count": 37,
     "metadata": {},
     "output_type": "execute_result"
    }
   ],
   "source": [
    "np.sort(lendin_co, axis=None)"
   ]
  },
  {
   "cell_type": "code",
   "execution_count": 33,
   "metadata": {},
   "outputs": [],
   "source": [
    "np.set_printoptions(suppress=True)"
   ]
  },
  {
   "cell_type": "code",
   "execution_count": 40,
   "metadata": {},
   "outputs": [
    {
     "data": {
      "text/plain": [
       "array([[   -40.,   -365.,  -2000.,  -3121.,  -4241., -13621.],\n",
       "       [   -40.,   -365.,  -2000.,  -3061.,  -4171., -15041.],\n",
       "       [   -40.,   -365.,  -1000.,  -2160.,  -3280., -15340.],\n",
       "       ...,\n",
       "       [   -40.,   -365.,  -2000.,  -4201.,  -5001., -16600.],\n",
       "       [   -40.,   -365.,  -1000.,  -2080.,  -3320., -15600.],\n",
       "       [   -40.,   -365.,  -2000.,  -4601.,  -4601., -16600.]])"
      ]
     },
     "execution_count": 40,
     "metadata": {},
     "output_type": "execute_result"
    }
   ],
   "source": [
    "-np.sort(lendin_co)"
   ]
  },
  {
   "cell_type": "code",
   "execution_count": 44,
   "metadata": {},
   "outputs": [
    {
     "data": {
      "text/plain": [
       "array([[   40.,   365.,  2000.,  3121.,  4241., 13621.],\n",
       "       [   40.,   365.,  2000.,  3061.,  4171., 15041.],\n",
       "       [   40.,   365.,  1000.,  2160.,  3280., 15340.],\n",
       "       ...,\n",
       "       [   40.,   365.,  2000.,  4201.,  5001., 16600.],\n",
       "       [   40.,   365.,  1000.,  2080.,  3320., 15600.],\n",
       "       [   40.,   365.,  2000.,  4601.,  4601., 16600.]])"
      ]
     },
     "execution_count": 44,
     "metadata": {},
     "output_type": "execute_result"
    }
   ],
   "source": [
    "np.sort(lendin_co)"
   ]
  },
  {
   "cell_type": "code",
   "execution_count": 45,
   "metadata": {},
   "outputs": [
    {
     "data": {
      "text/plain": [
       "array([-2870., -2550., -2450., ..., 16751., 17650., 19001.])"
      ]
     },
     "execution_count": 45,
     "metadata": {},
     "output_type": "execute_result"
    }
   ],
   "source": [
    "np.sort(lendin_co[:,3])"
   ]
  },
  {
   "cell_type": "markdown",
   "metadata": {},
   "source": [
    "## Argument Functions"
   ]
  },
  {
   "cell_type": "markdown",
   "metadata": {},
   "source": [
    "### np.argsort()"
   ]
  },
  {
   "cell_type": "code",
   "execution_count": 46,
   "metadata": {},
   "outputs": [
    {
     "data": {
      "text/plain": [
       "array([[1, 2, 0, 3, 4, 5],\n",
       "       [1, 2, 0, 3, 4, 5],\n",
       "       [1, 2, 0, 3, 4, 5],\n",
       "       ...,\n",
       "       [1, 2, 0, 3, 4, 5],\n",
       "       [1, 2, 0, 3, 4, 5],\n",
       "       [1, 2, 0, 3, 4, 5]])"
      ]
     },
     "execution_count": 46,
     "metadata": {},
     "output_type": "execute_result"
    }
   ],
   "source": [
    "np.argsort(lendin_co)"
   ]
  },
  {
   "cell_type": "markdown",
   "metadata": {},
   "source": [
    "### np.argwhere()"
   ]
  },
  {
   "cell_type": "code",
   "execution_count": 48,
   "metadata": {},
   "outputs": [
    {
     "data": {
      "text/plain": [
       "array([[116,   4],\n",
       "       [430,   3]])"
      ]
     },
     "execution_count": 48,
     "metadata": {},
     "output_type": "execute_result"
    }
   ],
   "source": [
    "np.argwhere(lendin_co == False)"
   ]
  },
  {
   "cell_type": "code",
   "execution_count": 49,
   "metadata": {},
   "outputs": [
    {
     "data": {
      "text/plain": [
       "array([ 1000.,    50.,   365., -1450.,     0., 13850.])"
      ]
     },
     "execution_count": 49,
     "metadata": {},
     "output_type": "execute_result"
    }
   ],
   "source": [
    "lendin_co[116]"
   ]
  },
  {
   "cell_type": "code",
   "execution_count": 50,
   "metadata": {},
   "outputs": [
    {
     "data": {
      "text/plain": [
       "array([[   0,    0],\n",
       "       [   0,    1],\n",
       "       [   1,    0],\n",
       "       ...,\n",
       "       [1042,    0],\n",
       "       [1042,    1],\n",
       "       [1042,    5]])"
      ]
     },
     "execution_count": 50,
     "metadata": {},
     "output_type": "execute_result"
    }
   ],
   "source": [
    "np.argwhere(lendin_co %2 ==0)"
   ]
  },
  {
   "cell_type": "code",
   "execution_count": 51,
   "metadata": {},
   "outputs": [
    {
     "data": {
      "text/plain": [
       "array([[False, False, False, False, False, False],\n",
       "       [False, False, False, False, False, False],\n",
       "       [False, False, False, False, False, False],\n",
       "       ...,\n",
       "       [ True, False, False, False, False, False],\n",
       "       [False, False, False, False, False, False],\n",
       "       [False, False, False, False, False, False]])"
      ]
     },
     "execution_count": 51,
     "metadata": {},
     "output_type": "execute_result"
    }
   ],
   "source": [
    "np.isnan(lendin_co_nan)"
   ]
  },
  {
   "cell_type": "code",
   "execution_count": 52,
   "metadata": {},
   "outputs": [
    {
     "data": {
      "text/plain": [
       "array([[  11,    3],\n",
       "       [  15,    3],\n",
       "       [  27,    3],\n",
       "       [  58,    3],\n",
       "       [  60,    4],\n",
       "       [  85,    4],\n",
       "       [ 117,    5],\n",
       "       [ 152,    1],\n",
       "       [ 152,    2],\n",
       "       [ 152,    4],\n",
       "       [ 172,    1],\n",
       "       [ 175,    1],\n",
       "       [ 175,    2],\n",
       "       [ 176,    3],\n",
       "       [ 177,    4],\n",
       "       [ 178,    5],\n",
       "       [ 211,    3],\n",
       "       [ 229,    0],\n",
       "       [ 230,    1],\n",
       "       [ 237,    1],\n",
       "       [ 247,    3],\n",
       "       [ 251,    5],\n",
       "       [ 252,    4],\n",
       "       [ 258,    1],\n",
       "       [ 260,    3],\n",
       "       [ 262,    4],\n",
       "       [ 271,    5],\n",
       "       [ 272,    4],\n",
       "       [ 284,    2],\n",
       "       [ 284,    3],\n",
       "       [ 297,    1],\n",
       "       [ 297,    2],\n",
       "       [ 300,    3],\n",
       "       [ 315,    3],\n",
       "       [ 315,    5],\n",
       "       [ 327,    4],\n",
       "       [ 336,    4],\n",
       "       [ 343,    0],\n",
       "       [ 344,    2],\n",
       "       [ 346,    2],\n",
       "       [ 363,    3],\n",
       "       [ 375,    3],\n",
       "       [ 377,    2],\n",
       "       [ 398,    5],\n",
       "       [ 416,    4],\n",
       "       [ 428,    0],\n",
       "       [ 432,    1],\n",
       "       [ 433,    3],\n",
       "       [ 434,    2],\n",
       "       [ 440,    3],\n",
       "       [ 441,    1],\n",
       "       [ 446,    2],\n",
       "       [ 455,    1],\n",
       "       [ 456,    2],\n",
       "       [ 458,    2],\n",
       "       [ 461,    3],\n",
       "       [ 467,    4],\n",
       "       [ 468,    0],\n",
       "       [ 469,    3],\n",
       "       [ 470,    0],\n",
       "       [ 481,    1],\n",
       "       [ 482,    3],\n",
       "       [ 484,    4],\n",
       "       [ 489,    0],\n",
       "       [ 493,    5],\n",
       "       [ 499,    0],\n",
       "       [ 504,    3],\n",
       "       [ 506,    1],\n",
       "       [ 517,    4],\n",
       "       [ 518,    0],\n",
       "       [ 521,    2],\n",
       "       [ 530,    5],\n",
       "       [ 532,    3],\n",
       "       [ 534,    5],\n",
       "       [ 547,    3],\n",
       "       [ 549,    5],\n",
       "       [ 553,    5],\n",
       "       [ 554,    5],\n",
       "       [ 559,    3],\n",
       "       [ 566,    0],\n",
       "       [ 566,    1],\n",
       "       [ 566,    2],\n",
       "       [ 567,    0],\n",
       "       [ 567,    1],\n",
       "       [ 567,    2],\n",
       "       [ 581,    1],\n",
       "       [ 581,    2],\n",
       "       [ 582,    1],\n",
       "       [ 582,    2],\n",
       "       [ 583,    1],\n",
       "       [ 583,    2],\n",
       "       [ 593,    3],\n",
       "       [ 594,    3],\n",
       "       [ 595,    3],\n",
       "       [ 596,    3],\n",
       "       [ 609,    4],\n",
       "       [ 609,    5],\n",
       "       [ 610,    4],\n",
       "       [ 610,    5],\n",
       "       [ 611,    4],\n",
       "       [ 611,    5],\n",
       "       [ 612,    4],\n",
       "       [ 612,    5],\n",
       "       [ 623,    2],\n",
       "       [ 623,    3],\n",
       "       [ 624,    2],\n",
       "       [ 624,    3],\n",
       "       [ 625,    2],\n",
       "       [ 625,    3],\n",
       "       [ 626,    2],\n",
       "       [ 626,    3],\n",
       "       [ 627,    2],\n",
       "       [ 627,    3],\n",
       "       [ 636,    0],\n",
       "       [ 637,    0],\n",
       "       [ 637,    4],\n",
       "       [ 637,    5],\n",
       "       [ 638,    0],\n",
       "       [ 638,    4],\n",
       "       [ 638,    5],\n",
       "       [ 639,    4],\n",
       "       [ 639,    5],\n",
       "       [ 640,    4],\n",
       "       [ 640,    5],\n",
       "       [ 641,    4],\n",
       "       [ 641,    5],\n",
       "       [ 653,    1],\n",
       "       [ 653,    2],\n",
       "       [ 653,    3],\n",
       "       [ 653,    4],\n",
       "       [ 654,    1],\n",
       "       [ 654,    2],\n",
       "       [ 654,    3],\n",
       "       [ 654,    4],\n",
       "       [ 655,    1],\n",
       "       [ 655,    2],\n",
       "       [ 655,    3],\n",
       "       [ 655,    4],\n",
       "       [ 685,    2],\n",
       "       [ 686,    0],\n",
       "       [ 701,    4],\n",
       "       [ 704,    2],\n",
       "       [ 724,    1],\n",
       "       [ 724,    2],\n",
       "       [ 730,    1],\n",
       "       [ 730,    2],\n",
       "       [ 730,    3],\n",
       "       [ 731,    1],\n",
       "       [ 731,    2],\n",
       "       [ 731,    3],\n",
       "       [ 732,    1],\n",
       "       [ 732,    2],\n",
       "       [ 732,    3],\n",
       "       [ 733,    1],\n",
       "       [ 733,    2],\n",
       "       [ 733,    3],\n",
       "       [ 742,    4],\n",
       "       [ 747,    3],\n",
       "       [ 755,    1],\n",
       "       [ 758,    1],\n",
       "       [ 760,    1],\n",
       "       [ 764,    0],\n",
       "       [ 764,    1],\n",
       "       [ 764,    2],\n",
       "       [ 764,    3],\n",
       "       [ 764,    4],\n",
       "       [ 764,    5],\n",
       "       [ 765,    3],\n",
       "       [ 775,    1],\n",
       "       [ 775,    2],\n",
       "       [ 775,    3],\n",
       "       [ 776,    1],\n",
       "       [ 776,    2],\n",
       "       [ 776,    3],\n",
       "       [ 777,    1],\n",
       "       [ 777,    2],\n",
       "       [ 777,    3],\n",
       "       [ 778,    1],\n",
       "       [ 778,    2],\n",
       "       [ 778,    3],\n",
       "       [ 787,    4],\n",
       "       [ 788,    1],\n",
       "       [ 790,    2],\n",
       "       [ 794,    3],\n",
       "       [ 795,    5],\n",
       "       [ 796,    1],\n",
       "       [ 796,    4],\n",
       "       [ 800,    0],\n",
       "       [ 801,    1],\n",
       "       [ 802,    1],\n",
       "       [ 803,    2],\n",
       "       [ 805,    0],\n",
       "       [ 809,    0],\n",
       "       [ 810,    0],\n",
       "       [ 811,    0],\n",
       "       [ 812,    1],\n",
       "       [ 820,    0],\n",
       "       [ 820,    3],\n",
       "       [ 820,    4],\n",
       "       [ 822,    2],\n",
       "       [ 823,    2],\n",
       "       [ 825,    0],\n",
       "       [ 830,    1],\n",
       "       [ 830,    2],\n",
       "       [ 836,    3],\n",
       "       [ 837,    3],\n",
       "       [ 838,    3],\n",
       "       [ 839,    4],\n",
       "       [ 843,    2],\n",
       "       [ 856,    0],\n",
       "       [ 856,    1],\n",
       "       [ 856,    3],\n",
       "       [ 856,    4],\n",
       "       [ 856,    5],\n",
       "       [ 857,    0],\n",
       "       [ 858,    1],\n",
       "       [ 870,    0],\n",
       "       [ 870,    2],\n",
       "       [ 870,    3],\n",
       "       [ 872,    0],\n",
       "       [ 873,    0],\n",
       "       [ 874,    1],\n",
       "       [ 890,    1],\n",
       "       [ 890,    2],\n",
       "       [ 890,    3],\n",
       "       [ 909,    1],\n",
       "       [ 910,    0],\n",
       "       [ 912,    0],\n",
       "       [ 912,    2],\n",
       "       [ 912,    3],\n",
       "       [ 912,    4],\n",
       "       [ 928,    1],\n",
       "       [ 928,    2],\n",
       "       [ 928,    3],\n",
       "       [ 929,    1],\n",
       "       [ 929,    2],\n",
       "       [ 929,    3],\n",
       "       [ 930,    3],\n",
       "       [ 958,    2],\n",
       "       [ 959,    3],\n",
       "       [ 960,    3],\n",
       "       [1024,    0],\n",
       "       [1024,    2],\n",
       "       [1026,    2],\n",
       "       [1026,    4],\n",
       "       [1028,    0],\n",
       "       [1028,    3],\n",
       "       [1028,    4],\n",
       "       [1029,    0],\n",
       "       [1030,    1],\n",
       "       [1030,    5],\n",
       "       [1032,    0],\n",
       "       [1032,    5],\n",
       "       [1034,    3],\n",
       "       [1035,    4],\n",
       "       [1036,    2],\n",
       "       [1037,    1],\n",
       "       [1038,    4],\n",
       "       [1039,    3],\n",
       "       [1040,    0]])"
      ]
     },
     "execution_count": 52,
     "metadata": {},
     "output_type": "execute_result"
    }
   ],
   "source": [
    "np.argwhere(np.isnan(lendin_co_nan))"
   ]
  },
  {
   "cell_type": "code",
   "execution_count": 21,
   "metadata": {},
   "outputs": [
    {
     "data": {
      "text/plain": [
       "array([ 2000.,    nan,    nan,  1851.,  3051., 13561.])"
      ]
     },
     "execution_count": 21,
     "metadata": {},
     "output_type": "execute_result"
    }
   ],
   "source": [
    "lendin_co_nan[175]\n"
   ]
  },
  {
   "cell_type": "code",
   "execution_count": 22,
   "metadata": {},
   "outputs": [],
   "source": [
    "for arr in np.argwhere(np.isnan(lendin_co_nan)):\n",
    "    lendin_co_nan[arr[0],arr[1]] = 0"
   ]
  },
  {
   "cell_type": "markdown",
   "metadata": {},
   "source": [
    "## Shuffling Data"
   ]
  },
  {
   "cell_type": "code",
   "execution_count": 316,
   "metadata": {},
   "outputs": [
    {
     "data": {
      "text/plain": [
       "array([[ 1000.,    40.,   365.,  2100.,  3600., 10000.],\n",
       "       [ 2000.,    40.,   365.,  3419.,  4619., 14469.],\n",
       "       [ 2000.,    50.,   365.,  1551.,  2701.,  6351.],\n",
       "       ...,\n",
       "       [ 1000.,    50.,   365., -1860.,  -440., 12200.],\n",
       "       [ 2000.,    40.,   365.,  3561.,  4701., 15851.],\n",
       "       [ 2000.,    40.,   365.,  3128.,  4281., 15781.]])"
      ]
     },
     "execution_count": 316,
     "metadata": {},
     "output_type": "execute_result"
    }
   ],
   "source": [
    "np.random.shuffle(lendin_co)\n",
    "lendin_co"
   ]
  },
  {
   "cell_type": "code",
   "execution_count": 317,
   "metadata": {},
   "outputs": [],
   "source": [
    "from numpy.random import shuffle"
   ]
  },
  {
   "cell_type": "code",
   "execution_count": 334,
   "metadata": {
    "scrolled": true
   },
   "outputs": [
    {
     "data": {
      "text/plain": [
       "array([[ 2000.,    40.,   365.,  3440.,  4580., 12460.],\n",
       "       [ 2000.,    40.,   365.,  4601.,  4601., 16600.],\n",
       "       [ 4000.,    50.,   365.,  5550.,  6900., 15950.],\n",
       "       ...,\n",
       "       [ 2500.,    50.,   365.,  2050.,  3850., 18200.],\n",
       "       [ 4000.,    50.,   365.,  5750.,  7350., 22250.],\n",
       "       [ 1000.,    40.,   365.,  3500.,  5000., 15600.]])"
      ]
     },
     "execution_count": 334,
     "metadata": {},
     "output_type": "execute_result"
    }
   ],
   "source": [
    "shuffle(lendin_co)\n",
    "lendin_co"
   ]
  },
  {
   "cell_type": "code",
   "execution_count": 55,
   "metadata": {},
   "outputs": [],
   "source": [
    "from numpy.random import PCG64 as pcg\n",
    "from numpy.random import Generator as gen"
   ]
  },
  {
   "cell_type": "code",
   "execution_count": 337,
   "metadata": {},
   "outputs": [
    {
     "data": {
      "text/plain": [
       "array([[ 2000.,    40.,   365.,  3101.,  4161., 10951.],\n",
       "       [ 2000.,    40.,   365.,  3201.,  4401., 14001.],\n",
       "       [ 2000.,    40.,   365.,  3200.,  4320., 16600.],\n",
       "       ...,\n",
       "       [ 4000.,    50.,   365.,  5400.,  6900., 22250.],\n",
       "       [ 2000.,    40.,   365.,  7901.,  7901., 16600.],\n",
       "       [ 9000.,   165.,   365., 14460., 18050., 37903.]])"
      ]
     },
     "execution_count": 337,
     "metadata": {},
     "output_type": "execute_result"
    }
   ],
   "source": [
    "gen_arr = gen(pcg(seed = 34))\n",
    "gen_arr.shuffle(lendin_co)\n",
    "lendin_co"
   ]
  },
  {
   "cell_type": "markdown",
   "metadata": {},
   "source": [
    "## Casting"
   ]
  },
  {
   "cell_type": "code",
   "execution_count": null,
   "metadata": {},
   "outputs": [],
   "source": []
  },
  {
   "cell_type": "code",
   "execution_count": 11,
   "metadata": {},
   "outputs": [
    {
     "data": {
      "text/plain": [
       "array([['id_1', 'Product B', 'Location 2'],\n",
       "       ['id_2', 'Product B', 'Location 3'],\n",
       "       ['id_3', 'Product C', 'Location 5'],\n",
       "       ...,\n",
       "       ['id_413', 'Product B', 'Location 135'],\n",
       "       ['id_414', 'Product C', 'Location 200'],\n",
       "       ['id_415', 'Product A', 'Location 8']], dtype='<U12')"
      ]
     },
     "execution_count": 11,
     "metadata": {},
     "output_type": "execute_result"
    }
   ],
   "source": [
    "lendin_co_new = np.genfromtxt('Lending-Company-Total-Price.csv', delimiter=',', dtype = np.str_, skip_header= 1, usecols = [1,2,4])\n",
    "lendin_co_new"
   ]
  },
  {
   "cell_type": "code",
   "execution_count": 13,
   "metadata": {},
   "outputs": [
    {
     "name": "stderr",
     "output_type": "stream",
     "text": [
      "C:\\Users\\PF6441\\AppData\\Local\\Temp\\ipykernel_4516\\3786938188.py:1: DeprecationWarning: `np.chararray` is deprecated and will be removed from the main namespace in the future. Use an array with a string or bytes dtype instead.\n",
      "  lendin_co_new[:,0] = np.chararray.strip(lendin_co_new[:,0], \"id_\")\n",
      "C:\\Users\\PF6441\\AppData\\Local\\Temp\\ipykernel_4516\\3786938188.py:2: DeprecationWarning: `np.chararray` is deprecated and will be removed from the main namespace in the future. Use an array with a string or bytes dtype instead.\n",
      "  lendin_co_new[:,1] = np.chararray.strip(lendin_co_new[:,1], \"Product \")\n",
      "C:\\Users\\PF6441\\AppData\\Local\\Temp\\ipykernel_4516\\3786938188.py:3: DeprecationWarning: `np.chararray` is deprecated and will be removed from the main namespace in the future. Use an array with a string or bytes dtype instead.\n",
      "  lendin_co_new[:,2] = np.chararray.strip(lendin_co_new[:,2], \"Location \")\n"
     ]
    },
    {
     "data": {
      "text/plain": [
       "array([['1', 'B', '2'],\n",
       "       ['2', 'B', '3'],\n",
       "       ['3', 'C', '5'],\n",
       "       ...,\n",
       "       ['413', 'B', '135'],\n",
       "       ['414', 'C', '200'],\n",
       "       ['415', 'A', '8']], dtype='<U12')"
      ]
     },
     "execution_count": 13,
     "metadata": {},
     "output_type": "execute_result"
    }
   ],
   "source": [
    "lendin_co_new[:,0] = np.chararray.strip(lendin_co_new[:,0], \"id_\")\n",
    "lendin_co_new[:,1] = np.chararray.strip(lendin_co_new[:,1], \"Product \")\n",
    "lendin_co_new[:,2] = np.chararray.strip(lendin_co_new[:,2], \"Location \")\n",
    "lendin_co_new"
   ]
  },
  {
   "cell_type": "markdown",
   "metadata": {},
   "source": [
    "## Stripping Data"
   ]
  },
  {
   "cell_type": "code",
   "execution_count": null,
   "metadata": {},
   "outputs": [],
   "source": []
  },
  {
   "cell_type": "markdown",
   "metadata": {},
   "source": [
    "## Stacking"
   ]
  },
  {
   "cell_type": "code",
   "execution_count": 23,
   "metadata": {
    "scrolled": true
   },
   "outputs": [
    {
     "data": {
      "text/plain": [
       "array([[2000., 2000., 1000., ..., 2000., 1000., 2000.],\n",
       "       [  40.,   40.,   40., ...,   40.,   40.,   40.]])"
      ]
     },
     "execution_count": 23,
     "metadata": {},
     "output_type": "execute_result"
    }
   ],
   "source": [
    "np.stack((lendin_co[:,0],lendin_co[:,1]))"
   ]
  },
  {
   "cell_type": "code",
   "execution_count": 24,
   "metadata": {},
   "outputs": [
    {
     "data": {
      "text/plain": [
       "array([[2000., 2000., 1000., ..., 2000., 1000., 2000.],\n",
       "       [  40.,   40.,   40., ...,   40.,   40.,   40.]])"
      ]
     },
     "execution_count": 24,
     "metadata": {},
     "output_type": "execute_result"
    }
   ],
   "source": [
    "np.transpose(lendin_co[:,:2])"
   ]
  },
  {
   "cell_type": "code",
   "execution_count": 26,
   "metadata": {},
   "outputs": [
    {
     "data": {
      "text/plain": [
       "array([[2000.,   40.,  365.],\n",
       "       [2000.,   40.,  365.],\n",
       "       [1000.,   40.,  365.],\n",
       "       ...,\n",
       "       [2000.,   40.,  365.],\n",
       "       [1000.,   40.,  365.],\n",
       "       [2000.,   40.,  365.]])"
      ]
     },
     "execution_count": 26,
     "metadata": {},
     "output_type": "execute_result"
    }
   ],
   "source": [
    "np.stack((lendin_co[:,0],lendin_co[:,1], lendin_co[:,2]), axis=1)"
   ]
  },
  {
   "cell_type": "code",
   "execution_count": 27,
   "metadata": {},
   "outputs": [
    {
     "data": {
      "text/plain": [
       "(1043, 6)"
      ]
     },
     "execution_count": 27,
     "metadata": {},
     "output_type": "execute_result"
    }
   ],
   "source": [
    "lendin_co_nan.shape"
   ]
  },
  {
   "cell_type": "code",
   "execution_count": 37,
   "metadata": {},
   "outputs": [
    {
     "data": {
      "text/plain": [
       "array([[ 2000.,  2000.],\n",
       "       [   40.,    40.],\n",
       "       [  365.,   365.],\n",
       "       [ 3121.,  3121.],\n",
       "       [ 4241.,  4241.],\n",
       "       [13621., 13621.]])"
      ]
     },
     "execution_count": 37,
     "metadata": {},
     "output_type": "execute_result"
    }
   ],
   "source": [
    "np.dstack((lendin_co,lendin_co_nan))[0]"
   ]
  },
  {
   "cell_type": "code",
   "execution_count": 38,
   "metadata": {},
   "outputs": [
    {
     "data": {
      "text/plain": [
       "array([ 2000.,    40.,   365.,  3121.,  4241., 13621.])"
      ]
     },
     "execution_count": 38,
     "metadata": {},
     "output_type": "execute_result"
    }
   ],
   "source": [
    "np.vstack((lendin_co_nan,lendin_co))[0]"
   ]
  },
  {
   "cell_type": "code",
   "execution_count": 40,
   "metadata": {},
   "outputs": [
    {
     "data": {
      "text/plain": [
       "array([ 2000.,    40.,   365.,  3121.,  4241., 13621.,  2000.,    40.,\n",
       "         365.,  3121.,  4241., 13621.])"
      ]
     },
     "execution_count": 40,
     "metadata": {},
     "output_type": "execute_result"
    }
   ],
   "source": [
    "np.hstack((lendin_co,lendin_co_nan))[0]"
   ]
  },
  {
   "cell_type": "code",
   "execution_count": 43,
   "metadata": {},
   "outputs": [
    {
     "data": {
      "text/plain": [
       "array([ 2000.,    40.,   365.,  3121.,  4241., 13621.])"
      ]
     },
     "execution_count": 43,
     "metadata": {},
     "output_type": "execute_result"
    }
   ],
   "source": [
    "np.dstack((lendin_co,lendin_co_nan))[0,:,0]"
   ]
  },
  {
   "cell_type": "code",
   "execution_count": 48,
   "metadata": {},
   "outputs": [
    {
     "data": {
      "text/plain": [
       "array([[ 2000.,  2000.],\n",
       "       [   40.,    40.],\n",
       "       [  365.,   365.],\n",
       "       [ 3121.,  3121.],\n",
       "       [ 4241.,  4241.],\n",
       "       [13621., 13621.]])"
      ]
     },
     "execution_count": 48,
     "metadata": {},
     "output_type": "execute_result"
    }
   ],
   "source": [
    "np.stack((lendin_co,lendin_co_nan), axis = -1)[0]"
   ]
  },
  {
   "cell_type": "markdown",
   "metadata": {},
   "source": [
    "## Concatenate"
   ]
  },
  {
   "cell_type": "code",
   "execution_count": 51,
   "metadata": {
    "scrolled": true
   },
   "outputs": [
    {
     "data": {
      "text/plain": [
       "array([ 2000.,    40.,   365.,  3061.,  4171., 15041.,  1000.,    40.,\n",
       "         365.,  2160.,  3280., 15340.])"
      ]
     },
     "execution_count": 51,
     "metadata": {},
     "output_type": "execute_result"
    }
   ],
   "source": [
    "np.concatenate((lendin_co[1], lendin_co[2]))"
   ]
  },
  {
   "cell_type": "code",
   "execution_count": 57,
   "metadata": {},
   "outputs": [
    {
     "data": {
      "text/plain": [
       "(1043, 12)"
      ]
     },
     "execution_count": 57,
     "metadata": {},
     "output_type": "execute_result"
    }
   ],
   "source": [
    "np.concatenate((lendin_co,lendin_co_nan), axis = 1).shape"
   ]
  },
  {
   "cell_type": "markdown",
   "metadata": {},
   "source": [
    "## Unique "
   ]
  },
  {
   "cell_type": "code",
   "execution_count": 61,
   "metadata": {},
   "outputs": [
    {
     "data": {
      "text/plain": [
       "(array([ 35.,  40.,  50., 125., 165.]),\n",
       " array([327,   0,   4,  19,  27]),\n",
       " array([  4, 567, 451,  19,   2]))"
      ]
     },
     "execution_count": 61,
     "metadata": {},
     "output_type": "execute_result"
    }
   ],
   "source": [
    "np.unique(lendin_co[:,1], return_counts=True, return_index=True)"
   ]
  }
 ],
 "metadata": {
  "kernelspec": {
   "display_name": "Python 3",
   "language": "python",
   "name": "python3"
  },
  "language_info": {
   "codemirror_mode": {
    "name": "ipython",
    "version": 3
   },
   "file_extension": ".py",
   "mimetype": "text/x-python",
   "name": "python",
   "nbconvert_exporter": "python",
   "pygments_lexer": "ipython3",
   "version": "3.12.5"
  }
 },
 "nbformat": 4,
 "nbformat_minor": 2
}
